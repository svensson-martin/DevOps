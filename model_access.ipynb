{
  "cells": [
    {
      "cell_type": "raw",
      "metadata": {},
      "source": [
        "---\n",
        "title: \"Access model\"\n",
        "format: html\n",
        "---"
      ],
      "id": "2dbf7613"
    },
    {
      "cell_type": "code",
      "metadata": {},
      "source": [
        "from pins import board_folder\n",
        "from vetiver import VetiverModel, VetiverAPI\n",
        "\n",
        "b = board_folder(\"data/model\", allow_pickle_read = True)\n",
        "v = VetiverModel.from_pin(b, \"penguin_model\")\n",
        "app = VetiverAPI(v, check_prototype = True)\n",
        "app.run(port = 8080)"
      ],
      "id": "14937eee",
      "execution_count": null,
      "outputs": []
    }
  ],
  "metadata": {
    "kernelspec": {
      "name": "python3",
      "language": "python",
      "display_name": "Python 3 (ipykernel)"
    }
  },
  "nbformat": 4,
  "nbformat_minor": 5
}